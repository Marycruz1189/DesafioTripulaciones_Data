{
 "metadata": {
  "language_info": {
   "codemirror_mode": {
    "name": "ipython",
    "version": 3
   },
   "file_extension": ".py",
   "mimetype": "text/x-python",
   "name": "python",
   "nbconvert_exporter": "python",
   "pygments_lexer": "ipython3",
   "version": "3.7.4"
  },
  "orig_nbformat": 4,
  "kernelspec": {
   "name": "python3",
   "display_name": "Python 3.7.4 64-bit"
  },
  "interpreter": {
   "hash": "54fd10a125f012059efbf68d746a102a68808834a5fa4f754a07e57618326eaa"
  }
 },
 "nbformat": 4,
 "nbformat_minor": 2,
 "cells": [
  {
   "cell_type": "code",
   "execution_count": 6,
   "metadata": {},
   "outputs": [],
   "source": [
    "import json\n",
    "import requests\n",
    "\n",
    "import pandas as pd "
   ]
  },
  {
   "cell_type": "code",
   "execution_count": 12,
   "metadata": {},
   "outputs": [],
   "source": [
    "def json_to_df(data):\n",
    "    elements = data['elements']\n",
    "    places = {'tipo': [], 'lat': [], 'lon': [], 'name': [], 'address': []}\n",
    "    \n",
    "    for i in elements:\n",
    "        \n",
    "        tipo = i.get('tags', None).get('amenity', None)\n",
    "        latitude = i.get('lat', None)\n",
    "        longitude = i.get('lon', None)\n",
    "        name = i.get('tags', {}).get('name', \"NO NAME\")\n",
    "        street = i.get('tags', {}).get('addr:street', \"NO STREET\")\n",
    "        number = i.get('tags', {}).get('addr:housenumber', 9999)\n",
    "\n",
    "        places['tipo'].append(tipo)\n",
    "        places['lat'].append(latitude)\n",
    "        places['lon'].append(longitude)\n",
    "        places['name'].append(name)\n",
    "        places['address'].append(street + ' ' + str(number))\n",
    "\n",
    "            \n",
    "    return pd.DataFrame(places)"
   ]
  },
  {
   "cell_type": "code",
   "execution_count": 61,
   "metadata": {},
   "outputs": [],
   "source": [
    "tipo = [\"restaurant\", \"bar\", \"pub\", \"cafe\", \"cinema\", \"theatre\"]\n",
    "barcelona = (41.33,2.06,41.46,2.27)\n",
    "madrid = (40.256,-3.995,40.543,-3.306)\n",
    "bilbao = (43.199,-3.069,43.373,-2.828)\n",
    "valencia = (39.408,-0.4758,39.548,-0.273)\n",
    "malaga = (36.658,-4.501,36.754,-4.351)\n",
    "sevilla = (37.332,-6.094,37.439,-5.893)"
   ]
  },
  {
   "cell_type": "code",
   "execution_count": 25,
   "metadata": {},
   "outputs": [],
   "source": [
    "#Función de prueba, no se utiliza\n",
    "def tablas_(iterator, location):\n",
    "\n",
    "    for ii, k in enumerate(iterator):\n",
    "        try:\n",
    "            overpass_url = \"http://overpass-api.de/api/interpreter\"\n",
    "            overpass_query = f\"\"\"\n",
    "            [out:json];\n",
    "            node[\"amenity\"={k}]\n",
    "              {location};\n",
    "            out;\n",
    "            \"\"\"\n",
    "            \n",
    "            response = requests.get(overpass_url, \n",
    "                                    params={'data': overpass_query})\n",
    "            data = response.json()\n",
    "            \n",
    "\n",
    "            if ii==0:\n",
    "                df = json_to_df(data)\n",
    "                print(f\"Iteración{ii}:{df.shape}\\n---------------------------\\n\")\n",
    "            else:\n",
    "                df = pd.concat([df, json_to_df(data)])\n",
    "                print(f\"Iteración{ii}:{df.shape}\\n---------------------------\\n\")\n",
    "        except:\n",
    "\n",
    "            print(f\"No hay data para {k} en las coordenadas {location}\\n---------------------------\\n\")\n",
    "        \n",
    "\n",
    "    return df"
   ]
  },
  {
   "cell_type": "code",
   "execution_count": 26,
   "metadata": {},
   "outputs": [
    {
     "output_type": "stream",
     "name": "stdout",
     "text": [
      "Iteración0:(3142, 5)\n",
      "---------------------------\n",
      "\n",
      "Iteración1:(4117, 5)\n",
      "---------------------------\n",
      "\n",
      "No hay data para pub en las coordenadas (41.33, 2.06, 41.46, 2.27)\n",
      "---------------------------\n",
      "\n",
      "No hay data para fast-food en las coordenadas (41.33, 2.06, 41.46, 2.27)\n",
      "---------------------------\n",
      "\n",
      "No hay data para cinema en las coordenadas (41.33, 2.06, 41.46, 2.27)\n",
      "---------------------------\n",
      "\n",
      "Iteración5:(4168, 5)\n",
      "---------------------------\n",
      "\n"
     ]
    }
   ],
   "source": [
    "#Ejecución de función en desuso\n",
    "df_barcelona = tablas_(tipo, barcelona)"
   ]
  },
  {
   "cell_type": "code",
   "execution_count": 65,
   "metadata": {},
   "outputs": [],
   "source": [
    "def tablas(nodes, location, col):\n",
    "    \"\"\"Con esta función se obtienen los locales para los nodes definidos en la localización (marcada por 4 puntos), que traen los argumentos.\"\"\"\n",
    "\n",
    "    overpass_url = \"http://overpass-api.de/api/interpreter\"\n",
    "    overpass_query = f\"\"\"\n",
    "    [out:json];\n",
    "    node[\"amenity\"]{location};\n",
    "    out;\n",
    "    \"\"\"\n",
    "            \n",
    "    response = requests.get(overpass_url, \n",
    "                            params={'data': overpass_query})\n",
    "    data = response.json() \n",
    "    df_total = json_to_df(data)\n",
    "    \n",
    "    for ii,k in enumerate(nodes):\n",
    "\n",
    "        if ii==0:\n",
    "            df = df_total[df_total[\"tipo\"] == k]\n",
    "        else:\n",
    "            df = pd.concat([df, df_total[df_total[\"tipo\"] == k]])\n",
    "\n",
    "    df.reset_index(inplace=True)\n",
    "    df.drop(columns=\"index\", inplace=True)\n",
    "    df[\"location\"] = col\n",
    "\n",
    "    print(\"Se ha obtenido un dataframe con shape:\", df.shape)\n",
    "\n",
    "    return df"
   ]
  },
  {
   "cell_type": "code",
   "execution_count": 66,
   "metadata": {},
   "outputs": [
    {
     "output_type": "stream",
     "name": "stdout",
     "text": [
      "Se ha obtenido un dataframe con shape: (5795, 6)\n"
     ]
    }
   ],
   "source": [
    "df_barcelona = tablas(tipo, barcelona, \"Barcelona\")"
   ]
  },
  {
   "cell_type": "code",
   "execution_count": 67,
   "metadata": {},
   "outputs": [
    {
     "output_type": "stream",
     "name": "stdout",
     "text": [
      "Se ha obtenido un dataframe con shape: (8545, 6)\n"
     ]
    }
   ],
   "source": [
    "df_madrid = tablas(tipo, madrid, \"Madrid\")"
   ]
  },
  {
   "cell_type": "code",
   "execution_count": 69,
   "metadata": {},
   "outputs": [
    {
     "output_type": "stream",
     "name": "stdout",
     "text": [
      "Se ha obtenido un dataframe con shape: (2481, 6)\n"
     ]
    }
   ],
   "source": [
    "df_bilbao = tablas(tipo, bilbao, \"Bilbao\")"
   ]
  },
  {
   "cell_type": "code",
   "execution_count": 70,
   "metadata": {},
   "outputs": [
    {
     "output_type": "stream",
     "name": "stdout",
     "text": [
      "Se ha obtenido un dataframe con shape: (1688, 6)\n"
     ]
    }
   ],
   "source": [
    "df_valencia = tablas(tipo, valencia, \"Valencia\")"
   ]
  },
  {
   "cell_type": "code",
   "execution_count": 72,
   "metadata": {},
   "outputs": [
    {
     "output_type": "stream",
     "name": "stdout",
     "text": [
      "Se ha obtenido un dataframe con shape: (610, 6)\n"
     ]
    }
   ],
   "source": [
    "df_malaga = tablas(tipo, malaga, \"Málaga\")"
   ]
  },
  {
   "cell_type": "code",
   "execution_count": 75,
   "metadata": {},
   "outputs": [
    {
     "output_type": "stream",
     "name": "stdout",
     "text": [
      "Se ha obtenido un dataframe con shape: (1861, 6)\n"
     ]
    }
   ],
   "source": [
    "df_sevilla = tablas(tipo, sevilla, \"Sevilla\")"
   ]
  },
  {
   "cell_type": "code",
   "execution_count": 83,
   "metadata": {},
   "outputs": [
    {
     "output_type": "execute_result",
     "data": {
      "text/plain": [
       "             tipo        lat       lon                         name  \\\n",
       "0      restaurant  41.381687  2.076645  Ateneu de Sant Just Desvern   \n",
       "1      restaurant  41.383643  2.158303                      Amaltea   \n",
       "2      restaurant  41.389518  2.162177                    Hanibishi   \n",
       "3      restaurant  41.389997  2.131837               Moncho's House   \n",
       "4      restaurant  41.383672  2.180639              Taller de Tapas   \n",
       "...           ...        ...       ...                          ...   \n",
       "20975     theatre  37.385602 -6.003795                Casalá Teatro   \n",
       "20976     theatre  37.383316 -6.000608       Teatro Flamenco Triana   \n",
       "20977     theatre  37.401108 -5.988291                      La sala   \n",
       "20978     theatre  37.367891 -5.960394       Teatro Salvador Távora   \n",
       "20979     theatre  37.387654 -5.993197      Tablao Álvarez Quintero   \n",
       "\n",
       "               address   location  \n",
       "0       NO STREET 9999  Barcelona  \n",
       "1       NO STREET 9999  Barcelona  \n",
       "2       NO STREET 9999  Barcelona  \n",
       "3       NO STREET 9999  Barcelona  \n",
       "4      l'Argenteria 51  Barcelona  \n",
       "...                ...        ...  \n",
       "20975   NO STREET 9999    Sevilla  \n",
       "20976   NO STREET 9999    Sevilla  \n",
       "20977   NO STREET 9999    Sevilla  \n",
       "20978           8 9999    Sevilla  \n",
       "20979   NO STREET 9999    Sevilla  \n",
       "\n",
       "[20980 rows x 6 columns]"
      ],
      "text/html": "<div>\n<style scoped>\n    .dataframe tbody tr th:only-of-type {\n        vertical-align: middle;\n    }\n\n    .dataframe tbody tr th {\n        vertical-align: top;\n    }\n\n    .dataframe thead th {\n        text-align: right;\n    }\n</style>\n<table border=\"1\" class=\"dataframe\">\n  <thead>\n    <tr style=\"text-align: right;\">\n      <th></th>\n      <th>tipo</th>\n      <th>lat</th>\n      <th>lon</th>\n      <th>name</th>\n      <th>address</th>\n      <th>location</th>\n    </tr>\n  </thead>\n  <tbody>\n    <tr>\n      <th>0</th>\n      <td>restaurant</td>\n      <td>41.381687</td>\n      <td>2.076645</td>\n      <td>Ateneu de Sant Just Desvern</td>\n      <td>NO STREET 9999</td>\n      <td>Barcelona</td>\n    </tr>\n    <tr>\n      <th>1</th>\n      <td>restaurant</td>\n      <td>41.383643</td>\n      <td>2.158303</td>\n      <td>Amaltea</td>\n      <td>NO STREET 9999</td>\n      <td>Barcelona</td>\n    </tr>\n    <tr>\n      <th>2</th>\n      <td>restaurant</td>\n      <td>41.389518</td>\n      <td>2.162177</td>\n      <td>Hanibishi</td>\n      <td>NO STREET 9999</td>\n      <td>Barcelona</td>\n    </tr>\n    <tr>\n      <th>3</th>\n      <td>restaurant</td>\n      <td>41.389997</td>\n      <td>2.131837</td>\n      <td>Moncho's House</td>\n      <td>NO STREET 9999</td>\n      <td>Barcelona</td>\n    </tr>\n    <tr>\n      <th>4</th>\n      <td>restaurant</td>\n      <td>41.383672</td>\n      <td>2.180639</td>\n      <td>Taller de Tapas</td>\n      <td>l'Argenteria 51</td>\n      <td>Barcelona</td>\n    </tr>\n    <tr>\n      <th>...</th>\n      <td>...</td>\n      <td>...</td>\n      <td>...</td>\n      <td>...</td>\n      <td>...</td>\n      <td>...</td>\n    </tr>\n    <tr>\n      <th>20975</th>\n      <td>theatre</td>\n      <td>37.385602</td>\n      <td>-6.003795</td>\n      <td>Casalá Teatro</td>\n      <td>NO STREET 9999</td>\n      <td>Sevilla</td>\n    </tr>\n    <tr>\n      <th>20976</th>\n      <td>theatre</td>\n      <td>37.383316</td>\n      <td>-6.000608</td>\n      <td>Teatro Flamenco Triana</td>\n      <td>NO STREET 9999</td>\n      <td>Sevilla</td>\n    </tr>\n    <tr>\n      <th>20977</th>\n      <td>theatre</td>\n      <td>37.401108</td>\n      <td>-5.988291</td>\n      <td>La sala</td>\n      <td>NO STREET 9999</td>\n      <td>Sevilla</td>\n    </tr>\n    <tr>\n      <th>20978</th>\n      <td>theatre</td>\n      <td>37.367891</td>\n      <td>-5.960394</td>\n      <td>Teatro Salvador Távora</td>\n      <td>8 9999</td>\n      <td>Sevilla</td>\n    </tr>\n    <tr>\n      <th>20979</th>\n      <td>theatre</td>\n      <td>37.387654</td>\n      <td>-5.993197</td>\n      <td>Tablao Álvarez Quintero</td>\n      <td>NO STREET 9999</td>\n      <td>Sevilla</td>\n    </tr>\n  </tbody>\n</table>\n<p>20980 rows × 6 columns</p>\n</div>"
     },
     "metadata": {},
     "execution_count": 83
    }
   ],
   "source": [
    "df_locales = pd.concat([df_barcelona,df_madrid,df_bilbao,df_valencia,df_malaga,df_sevilla],axis=0)\n",
    "\n",
    "df_locales.reset_index(inplace=True)\n",
    "df_locales.drop(columns=\"index\", inplace=True)\n",
    "df_locales"
   ]
  },
  {
   "source": [
    "## PRUEBA"
   ],
   "cell_type": "markdown",
   "metadata": {}
  },
  {
   "cell_type": "code",
   "execution_count": 56,
   "metadata": {},
   "outputs": [
    {
     "output_type": "execute_result",
     "data": {
      "text/plain": [
       "            tipo        lat       lon  \\\n",
       "0     restaurant  41.381687  2.076645   \n",
       "1     restaurant  41.383643  2.158303   \n",
       "2     restaurant  41.389518  2.162177   \n",
       "3     restaurant  41.389997  2.131837   \n",
       "4     restaurant  41.383672  2.180639   \n",
       "...          ...        ...       ...   \n",
       "4578     theatre  41.369839  2.137810   \n",
       "4579     theatre  41.370484  2.123253   \n",
       "4580     theatre  41.378793  2.134733   \n",
       "4581     theatre  41.388456  2.173889   \n",
       "4582     theatre  41.400570  2.120671   \n",
       "\n",
       "                                            name  \\\n",
       "0                    Ateneu de Sant Just Desvern   \n",
       "1                                        Amaltea   \n",
       "2                                      Hanibishi   \n",
       "3                                 Moncho's House   \n",
       "4                                Taller de Tapas   \n",
       "...                                          ...   \n",
       "4578                             Sala Sant Medir   \n",
       "4579                        Auditori la Torrassa   \n",
       "4580                                     NO NAME   \n",
       "4581                                    Sala Ars   \n",
       "4582  Centre Parroquial de Sant Vicenç de Sarrià   \n",
       "\n",
       "                            address  \n",
       "0                    NO STREET 9999  \n",
       "1                    NO STREET 9999  \n",
       "2                    NO STREET 9999  \n",
       "3                    NO STREET 9999  \n",
       "4                   l'Argenteria 51  \n",
       "...                             ...  \n",
       "4578                 NO STREET 9999  \n",
       "4579  Carrer de Santiago Apòstol 40  \n",
       "4580                 NO STREET 9999  \n",
       "4581                 NO STREET 9999  \n",
       "4582                 NO STREET 9999  \n",
       "\n",
       "[4583 rows x 5 columns]"
      ],
      "text/html": "<div>\n<style scoped>\n    .dataframe tbody tr th:only-of-type {\n        vertical-align: middle;\n    }\n\n    .dataframe tbody tr th {\n        vertical-align: top;\n    }\n\n    .dataframe thead th {\n        text-align: right;\n    }\n</style>\n<table border=\"1\" class=\"dataframe\">\n  <thead>\n    <tr style=\"text-align: right;\">\n      <th></th>\n      <th>tipo</th>\n      <th>lat</th>\n      <th>lon</th>\n      <th>name</th>\n      <th>address</th>\n    </tr>\n  </thead>\n  <tbody>\n    <tr>\n      <th>0</th>\n      <td>restaurant</td>\n      <td>41.381687</td>\n      <td>2.076645</td>\n      <td>Ateneu de Sant Just Desvern</td>\n      <td>NO STREET 9999</td>\n    </tr>\n    <tr>\n      <th>1</th>\n      <td>restaurant</td>\n      <td>41.383643</td>\n      <td>2.158303</td>\n      <td>Amaltea</td>\n      <td>NO STREET 9999</td>\n    </tr>\n    <tr>\n      <th>2</th>\n      <td>restaurant</td>\n      <td>41.389518</td>\n      <td>2.162177</td>\n      <td>Hanibishi</td>\n      <td>NO STREET 9999</td>\n    </tr>\n    <tr>\n      <th>3</th>\n      <td>restaurant</td>\n      <td>41.389997</td>\n      <td>2.131837</td>\n      <td>Moncho's House</td>\n      <td>NO STREET 9999</td>\n    </tr>\n    <tr>\n      <th>4</th>\n      <td>restaurant</td>\n      <td>41.383672</td>\n      <td>2.180639</td>\n      <td>Taller de Tapas</td>\n      <td>l'Argenteria 51</td>\n    </tr>\n    <tr>\n      <th>...</th>\n      <td>...</td>\n      <td>...</td>\n      <td>...</td>\n      <td>...</td>\n      <td>...</td>\n    </tr>\n    <tr>\n      <th>4578</th>\n      <td>theatre</td>\n      <td>41.369839</td>\n      <td>2.137810</td>\n      <td>Sala Sant Medir</td>\n      <td>NO STREET 9999</td>\n    </tr>\n    <tr>\n      <th>4579</th>\n      <td>theatre</td>\n      <td>41.370484</td>\n      <td>2.123253</td>\n      <td>Auditori la Torrassa</td>\n      <td>Carrer de Santiago Apòstol 40</td>\n    </tr>\n    <tr>\n      <th>4580</th>\n      <td>theatre</td>\n      <td>41.378793</td>\n      <td>2.134733</td>\n      <td>NO NAME</td>\n      <td>NO STREET 9999</td>\n    </tr>\n    <tr>\n      <th>4581</th>\n      <td>theatre</td>\n      <td>41.388456</td>\n      <td>2.173889</td>\n      <td>Sala Ars</td>\n      <td>NO STREET 9999</td>\n    </tr>\n    <tr>\n      <th>4582</th>\n      <td>theatre</td>\n      <td>41.400570</td>\n      <td>2.120671</td>\n      <td>Centre Parroquial de Sant Vicenç de Sarrià</td>\n      <td>NO STREET 9999</td>\n    </tr>\n  </tbody>\n</table>\n<p>4583 rows × 5 columns</p>\n</div>"
     },
     "metadata": {},
     "execution_count": 56
    }
   ],
   "source": [
    "df_barcelona"
   ]
  },
  {
   "cell_type": "code",
   "execution_count": 28,
   "metadata": {},
   "outputs": [
    {
     "output_type": "execute_result",
     "data": {
      "text/plain": [
       "         tipo        lat       lon                         name  \\\n",
       "0  restaurant  41.381687  2.076645  Ateneu de Sant Just Desvern   \n",
       "1  restaurant  41.383643  2.158303                      Amaltea   \n",
       "2  restaurant  41.389518  2.162177                    Hanibishi   \n",
       "3  restaurant  41.389997  2.131837               Moncho's House   \n",
       "4  restaurant  41.383672  2.180639              Taller de Tapas   \n",
       "\n",
       "           address  \n",
       "0   NO STREET 9999  \n",
       "1   NO STREET 9999  \n",
       "2   NO STREET 9999  \n",
       "3   NO STREET 9999  \n",
       "4  l'Argenteria 51  "
      ],
      "text/html": "<div>\n<style scoped>\n    .dataframe tbody tr th:only-of-type {\n        vertical-align: middle;\n    }\n\n    .dataframe tbody tr th {\n        vertical-align: top;\n    }\n\n    .dataframe thead th {\n        text-align: right;\n    }\n</style>\n<table border=\"1\" class=\"dataframe\">\n  <thead>\n    <tr style=\"text-align: right;\">\n      <th></th>\n      <th>tipo</th>\n      <th>lat</th>\n      <th>lon</th>\n      <th>name</th>\n      <th>address</th>\n    </tr>\n  </thead>\n  <tbody>\n    <tr>\n      <th>0</th>\n      <td>restaurant</td>\n      <td>41.381687</td>\n      <td>2.076645</td>\n      <td>Ateneu de Sant Just Desvern</td>\n      <td>NO STREET 9999</td>\n    </tr>\n    <tr>\n      <th>1</th>\n      <td>restaurant</td>\n      <td>41.383643</td>\n      <td>2.158303</td>\n      <td>Amaltea</td>\n      <td>NO STREET 9999</td>\n    </tr>\n    <tr>\n      <th>2</th>\n      <td>restaurant</td>\n      <td>41.389518</td>\n      <td>2.162177</td>\n      <td>Hanibishi</td>\n      <td>NO STREET 9999</td>\n    </tr>\n    <tr>\n      <th>3</th>\n      <td>restaurant</td>\n      <td>41.389997</td>\n      <td>2.131837</td>\n      <td>Moncho's House</td>\n      <td>NO STREET 9999</td>\n    </tr>\n    <tr>\n      <th>4</th>\n      <td>restaurant</td>\n      <td>41.383672</td>\n      <td>2.180639</td>\n      <td>Taller de Tapas</td>\n      <td>l'Argenteria 51</td>\n    </tr>\n  </tbody>\n</table>\n</div>"
     },
     "metadata": {},
     "execution_count": 28
    }
   ],
   "source": [
    "overpass_url = \"http://overpass-api.de/api/interpreter\"\n",
    "overpass_query = \"\"\"\n",
    "[out:json];\n",
    "node[\"amenity\"]\n",
    "  (41.33,2.06,41.46,2.27); \n",
    "out;\n",
    "\"\"\"\n",
    "response = requests.get(overpass_url, \n",
    "                        params={'data': overpass_query})\n",
    "data = response.json()\n",
    "df_bcn = json_to_df(data)\n",
    "df.head()"
   ]
  },
  {
   "cell_type": "code",
   "execution_count": 36,
   "metadata": {},
   "outputs": [
    {
     "output_type": "execute_result",
     "data": {
      "text/plain": [
       "       tipo        lat       lon                                  name  \\\n",
       "91     cafe  41.382397  2.074083                               Parador   \n",
       "177    cafe  41.380345  2.170768                            Mendizabal   \n",
       "188    cafe  41.438684  2.217155                                   Rin   \n",
       "213    cafe  41.430517  2.172519  The New Orleans Coffee & Tea Company   \n",
       "217    cafe  41.396232  2.189086                       Bar Almogávares   \n",
       "...     ...        ...       ...                                   ...   \n",
       "25296  cafe  41.376309  2.118485               Bar Cafetería Les Corts   \n",
       "25297  cafe  41.363198  2.139289                                   365   \n",
       "25315  cafe  41.397094  2.179024                                Vivari   \n",
       "25316  cafe  41.410289  2.137618                                Vivari   \n",
       "25317  cafe  41.397786  2.174367                           365 Obrador   \n",
       "\n",
       "                            address  \n",
       "91                   NO STREET 9999  \n",
       "177                  NO STREET 9999  \n",
       "188       carrer de Pérez Galdós 29  \n",
       "213                  NO STREET 9999  \n",
       "217                  NO STREET 9999  \n",
       "...                             ...  \n",
       "25296  Travessera de les Corts 9999  \n",
       "25297                NO STREET 9999  \n",
       "25315                NO STREET 9999  \n",
       "25316                NO STREET 9999  \n",
       "25317                NO STREET 9999  \n",
       "\n",
       "[1212 rows x 5 columns]"
      ],
      "text/html": "<div>\n<style scoped>\n    .dataframe tbody tr th:only-of-type {\n        vertical-align: middle;\n    }\n\n    .dataframe tbody tr th {\n        vertical-align: top;\n    }\n\n    .dataframe thead th {\n        text-align: right;\n    }\n</style>\n<table border=\"1\" class=\"dataframe\">\n  <thead>\n    <tr style=\"text-align: right;\">\n      <th></th>\n      <th>tipo</th>\n      <th>lat</th>\n      <th>lon</th>\n      <th>name</th>\n      <th>address</th>\n    </tr>\n  </thead>\n  <tbody>\n    <tr>\n      <th>91</th>\n      <td>cafe</td>\n      <td>41.382397</td>\n      <td>2.074083</td>\n      <td>Parador</td>\n      <td>NO STREET 9999</td>\n    </tr>\n    <tr>\n      <th>177</th>\n      <td>cafe</td>\n      <td>41.380345</td>\n      <td>2.170768</td>\n      <td>Mendizabal</td>\n      <td>NO STREET 9999</td>\n    </tr>\n    <tr>\n      <th>188</th>\n      <td>cafe</td>\n      <td>41.438684</td>\n      <td>2.217155</td>\n      <td>Rin</td>\n      <td>carrer de Pérez Galdós 29</td>\n    </tr>\n    <tr>\n      <th>213</th>\n      <td>cafe</td>\n      <td>41.430517</td>\n      <td>2.172519</td>\n      <td>The New Orleans Coffee &amp; Tea Company</td>\n      <td>NO STREET 9999</td>\n    </tr>\n    <tr>\n      <th>217</th>\n      <td>cafe</td>\n      <td>41.396232</td>\n      <td>2.189086</td>\n      <td>Bar Almogávares</td>\n      <td>NO STREET 9999</td>\n    </tr>\n    <tr>\n      <th>...</th>\n      <td>...</td>\n      <td>...</td>\n      <td>...</td>\n      <td>...</td>\n      <td>...</td>\n    </tr>\n    <tr>\n      <th>25296</th>\n      <td>cafe</td>\n      <td>41.376309</td>\n      <td>2.118485</td>\n      <td>Bar Cafetería Les Corts</td>\n      <td>Travessera de les Corts 9999</td>\n    </tr>\n    <tr>\n      <th>25297</th>\n      <td>cafe</td>\n      <td>41.363198</td>\n      <td>2.139289</td>\n      <td>365</td>\n      <td>NO STREET 9999</td>\n    </tr>\n    <tr>\n      <th>25315</th>\n      <td>cafe</td>\n      <td>41.397094</td>\n      <td>2.179024</td>\n      <td>Vivari</td>\n      <td>NO STREET 9999</td>\n    </tr>\n    <tr>\n      <th>25316</th>\n      <td>cafe</td>\n      <td>41.410289</td>\n      <td>2.137618</td>\n      <td>Vivari</td>\n      <td>NO STREET 9999</td>\n    </tr>\n    <tr>\n      <th>25317</th>\n      <td>cafe</td>\n      <td>41.397786</td>\n      <td>2.174367</td>\n      <td>365 Obrador</td>\n      <td>NO STREET 9999</td>\n    </tr>\n  </tbody>\n</table>\n<p>1212 rows × 5 columns</p>\n</div>"
     },
     "metadata": {},
     "execution_count": 36
    }
   ],
   "source": [
    "df_bcn[df_bcn[\"tipo\"]==\"restau\"]"
   ]
  },
  {
   "cell_type": "code",
   "execution_count": 33,
   "metadata": {},
   "outputs": [
    {
     "output_type": "execute_result",
     "data": {
      "text/plain": [
       "                   tipo        lat       lon  \\\n",
       "0      parking_entrance  41.375370  2.152592   \n",
       "1      parking_entrance  41.387344  2.164956   \n",
       "2              pharmacy  41.402512  2.158573   \n",
       "3              pharmacy  41.403115  2.157597   \n",
       "4              pharmacy  41.403947  2.155336   \n",
       "...                 ...        ...       ...   \n",
       "25314    drinking_water  41.355736  2.070438   \n",
       "25315              cafe  41.397094  2.179024   \n",
       "25316              cafe  41.410289  2.137618   \n",
       "25317              cafe  41.397786  2.174367   \n",
       "25318        restaurant  41.382311  2.182035   \n",
       "\n",
       "                                                    name  \\\n",
       "0                                                NO NAME   \n",
       "1                                                NO NAME   \n",
       "2                        Farmàcia Mauri Martínez, Emília   \n",
       "3      Farmàcia Valentines Nart, T - Gelabert Valentines   \n",
       "4            Farmàcia Gil Pellicer, F. - Cortés Tena, J.   \n",
       "...                                                  ...   \n",
       "25314                                  Drinking fountain   \n",
       "25315                                             Vivari   \n",
       "25316                                             Vivari   \n",
       "25317                                        365 Obrador   \n",
       "25318                                    Tucco Real Food   \n",
       "\n",
       "                          address  \n",
       "0                  NO STREET 9999  \n",
       "1                  NO STREET 9999  \n",
       "2      Carrer de Ramón y Cajal 24  \n",
       "3               Carrer de Verdi 7  \n",
       "4            Carrer d'Astúries 54  \n",
       "...                           ...  \n",
       "25314              NO STREET 9999  \n",
       "25315              NO STREET 9999  \n",
       "25316              NO STREET 9999  \n",
       "25317              NO STREET 9999  \n",
       "25318              NO STREET 9999  \n",
       "\n",
       "[25319 rows x 5 columns]"
      ],
      "text/html": "<div>\n<style scoped>\n    .dataframe tbody tr th:only-of-type {\n        vertical-align: middle;\n    }\n\n    .dataframe tbody tr th {\n        vertical-align: top;\n    }\n\n    .dataframe thead th {\n        text-align: right;\n    }\n</style>\n<table border=\"1\" class=\"dataframe\">\n  <thead>\n    <tr style=\"text-align: right;\">\n      <th></th>\n      <th>tipo</th>\n      <th>lat</th>\n      <th>lon</th>\n      <th>name</th>\n      <th>address</th>\n    </tr>\n  </thead>\n  <tbody>\n    <tr>\n      <th>0</th>\n      <td>parking_entrance</td>\n      <td>41.375370</td>\n      <td>2.152592</td>\n      <td>NO NAME</td>\n      <td>NO STREET 9999</td>\n    </tr>\n    <tr>\n      <th>1</th>\n      <td>parking_entrance</td>\n      <td>41.387344</td>\n      <td>2.164956</td>\n      <td>NO NAME</td>\n      <td>NO STREET 9999</td>\n    </tr>\n    <tr>\n      <th>2</th>\n      <td>pharmacy</td>\n      <td>41.402512</td>\n      <td>2.158573</td>\n      <td>Farmàcia Mauri Martínez, Emília</td>\n      <td>Carrer de Ramón y Cajal 24</td>\n    </tr>\n    <tr>\n      <th>3</th>\n      <td>pharmacy</td>\n      <td>41.403115</td>\n      <td>2.157597</td>\n      <td>Farmàcia Valentines Nart, T - Gelabert Valentines</td>\n      <td>Carrer de Verdi 7</td>\n    </tr>\n    <tr>\n      <th>4</th>\n      <td>pharmacy</td>\n      <td>41.403947</td>\n      <td>2.155336</td>\n      <td>Farmàcia Gil Pellicer, F. - Cortés Tena, J.</td>\n      <td>Carrer d'Astúries 54</td>\n    </tr>\n    <tr>\n      <th>...</th>\n      <td>...</td>\n      <td>...</td>\n      <td>...</td>\n      <td>...</td>\n      <td>...</td>\n    </tr>\n    <tr>\n      <th>25314</th>\n      <td>drinking_water</td>\n      <td>41.355736</td>\n      <td>2.070438</td>\n      <td>Drinking fountain</td>\n      <td>NO STREET 9999</td>\n    </tr>\n    <tr>\n      <th>25315</th>\n      <td>cafe</td>\n      <td>41.397094</td>\n      <td>2.179024</td>\n      <td>Vivari</td>\n      <td>NO STREET 9999</td>\n    </tr>\n    <tr>\n      <th>25316</th>\n      <td>cafe</td>\n      <td>41.410289</td>\n      <td>2.137618</td>\n      <td>Vivari</td>\n      <td>NO STREET 9999</td>\n    </tr>\n    <tr>\n      <th>25317</th>\n      <td>cafe</td>\n      <td>41.397786</td>\n      <td>2.174367</td>\n      <td>365 Obrador</td>\n      <td>NO STREET 9999</td>\n    </tr>\n    <tr>\n      <th>25318</th>\n      <td>restaurant</td>\n      <td>41.382311</td>\n      <td>2.182035</td>\n      <td>Tucco Real Food</td>\n      <td>NO STREET 9999</td>\n    </tr>\n  </tbody>\n</table>\n<p>25319 rows × 5 columns</p>\n</div>"
     },
     "metadata": {},
     "execution_count": 33
    }
   ],
   "source": [
    "df_bcn\n"
   ]
  },
  {
   "cell_type": "code",
   "execution_count": null,
   "metadata": {},
   "outputs": [],
   "source": []
  }
 ]
}