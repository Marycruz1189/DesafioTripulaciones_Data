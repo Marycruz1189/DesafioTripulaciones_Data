{
 "metadata": {
  "language_info": {
   "codemirror_mode": {
    "name": "ipython",
    "version": 3
   },
   "file_extension": ".py",
   "mimetype": "text/x-python",
   "name": "python",
   "nbconvert_exporter": "python",
   "pygments_lexer": "ipython3",
   "version": "3.7.4"
  },
  "orig_nbformat": 4,
  "kernelspec": {
   "name": "python3",
   "display_name": "Python 3.7.4 64-bit"
  },
  "interpreter": {
   "hash": "93959734c7fb7f2dc7760fccbd71d0356ba421f29bb59ffa607c9608db7abb2a"
  }
 },
 "nbformat": 4,
 "nbformat_minor": 2,
 "cells": [
  {
   "cell_type": "code",
   "execution_count": 7,
   "metadata": {},
   "outputs": [],
   "source": [
    "'''\n",
    "código que se uso para generar los usarios fake \n",
    "'''\n",
    "\n",
    "\n",
    "from faker import Faker\n",
    "import numpy as np \n",
    "import pandas as pd\n",
    "\n",
    "# importación de librerías propias\n",
    "import utils.folders_tb as fold \n",
    "import utils.tools as tools\n",
    "from utils.mysql_driver import MySQL\n",
    "import utils.mysql_driver as drv\n",
    "\n",
    "fake = Faker('es_ES')\n",
    "df_localidades = fold.read_file_toDF('CP_SP_LatLon',',')\n",
    "df_localidades.drop(columns='Unnamed: 0', inplace=True)\n"
   ]
  },
  {
   "cell_type": "code",
   "execution_count": 10,
   "metadata": {},
   "outputs": [
    {
     "output_type": "execute_result",
     "data": {
      "text/plain": [
       "                     CA  provincia  poblacion     CP          lat          lon\n",
       "0              Cataluña  Barcelona  Barcelona   8001  41,38424664   2,17634927\n",
       "1              Cataluña  Barcelona  Barcelona   8002  41,38424664   2,17634927\n",
       "2              Cataluña  Barcelona  Barcelona   8003  41,38424664   2,17634927\n",
       "3              Cataluña  Barcelona  Barcelona   8004  41,38424664   2,17634927\n",
       "4              Cataluña  Barcelona  Barcelona   8005  41,38424664   2,17634927\n",
       "..                  ...        ...        ...    ...          ...          ...\n",
       "319  Castilla la Mancha     Toledo     Toledo  45004  39,85715187  -4,02431421\n",
       "320  Castilla la Mancha     Toledo     Toledo  45005  39,85715187  -4,02431421\n",
       "321  Castilla la Mancha     Toledo     Toledo  45006  39,85715187  -4,02431421\n",
       "322  Castilla la Mancha     Toledo     Toledo  45007  39,85715187  -4,02431421\n",
       "323  Castilla la Mancha     Toledo     Toledo  45008  39,85715187  -4,02431421\n",
       "\n",
       "[324 rows x 6 columns]"
      ],
      "text/html": "<div>\n<style scoped>\n    .dataframe tbody tr th:only-of-type {\n        vertical-align: middle;\n    }\n\n    .dataframe tbody tr th {\n        vertical-align: top;\n    }\n\n    .dataframe thead th {\n        text-align: right;\n    }\n</style>\n<table border=\"1\" class=\"dataframe\">\n  <thead>\n    <tr style=\"text-align: right;\">\n      <th></th>\n      <th>CA</th>\n      <th>provincia</th>\n      <th>poblacion</th>\n      <th>CP</th>\n      <th>lat</th>\n      <th>lon</th>\n    </tr>\n  </thead>\n  <tbody>\n    <tr>\n      <th>0</th>\n      <td>Cataluña</td>\n      <td>Barcelona</td>\n      <td>Barcelona</td>\n      <td>8001</td>\n      <td>41,38424664</td>\n      <td>2,17634927</td>\n    </tr>\n    <tr>\n      <th>1</th>\n      <td>Cataluña</td>\n      <td>Barcelona</td>\n      <td>Barcelona</td>\n      <td>8002</td>\n      <td>41,38424664</td>\n      <td>2,17634927</td>\n    </tr>\n    <tr>\n      <th>2</th>\n      <td>Cataluña</td>\n      <td>Barcelona</td>\n      <td>Barcelona</td>\n      <td>8003</td>\n      <td>41,38424664</td>\n      <td>2,17634927</td>\n    </tr>\n    <tr>\n      <th>3</th>\n      <td>Cataluña</td>\n      <td>Barcelona</td>\n      <td>Barcelona</td>\n      <td>8004</td>\n      <td>41,38424664</td>\n      <td>2,17634927</td>\n    </tr>\n    <tr>\n      <th>4</th>\n      <td>Cataluña</td>\n      <td>Barcelona</td>\n      <td>Barcelona</td>\n      <td>8005</td>\n      <td>41,38424664</td>\n      <td>2,17634927</td>\n    </tr>\n    <tr>\n      <th>...</th>\n      <td>...</td>\n      <td>...</td>\n      <td>...</td>\n      <td>...</td>\n      <td>...</td>\n      <td>...</td>\n    </tr>\n    <tr>\n      <th>319</th>\n      <td>Castilla la Mancha</td>\n      <td>Toledo</td>\n      <td>Toledo</td>\n      <td>45004</td>\n      <td>39,85715187</td>\n      <td>-4,02431421</td>\n    </tr>\n    <tr>\n      <th>320</th>\n      <td>Castilla la Mancha</td>\n      <td>Toledo</td>\n      <td>Toledo</td>\n      <td>45005</td>\n      <td>39,85715187</td>\n      <td>-4,02431421</td>\n    </tr>\n    <tr>\n      <th>321</th>\n      <td>Castilla la Mancha</td>\n      <td>Toledo</td>\n      <td>Toledo</td>\n      <td>45006</td>\n      <td>39,85715187</td>\n      <td>-4,02431421</td>\n    </tr>\n    <tr>\n      <th>322</th>\n      <td>Castilla la Mancha</td>\n      <td>Toledo</td>\n      <td>Toledo</td>\n      <td>45007</td>\n      <td>39,85715187</td>\n      <td>-4,02431421</td>\n    </tr>\n    <tr>\n      <th>323</th>\n      <td>Castilla la Mancha</td>\n      <td>Toledo</td>\n      <td>Toledo</td>\n      <td>45008</td>\n      <td>39,85715187</td>\n      <td>-4,02431421</td>\n    </tr>\n  </tbody>\n</table>\n<p>324 rows × 6 columns</p>\n</div>"
     },
     "metadata": {},
     "execution_count": 10
    }
   ],
   "source": [
    "\n",
    "df_localidades"
   ]
  },
  {
   "cell_type": "code",
   "execution_count": 6,
   "metadata": {},
   "outputs": [],
   "source": [
    "df_localidades['CP'] = df_localidades['codigopostalid'].apply(lambda x: str(x) if x > 10000 else '0'+str(x)) #se convierte el CP original en string \n",
    "df_localidades.drop(columns='codigopostalid', inplace=True)\n",
    "df_localidades['CA'] = df_localidades['CP'].apply(lambda x: tools.CP_toCom(x))\n",
    "df_localidades = df_localidades[['CA','provincia','poblacion','CP','lat','lon']]\n",
    "fold.save_df_to_csv(df_localidades,'final_loc')\n"
   ]
  },
  {
   "cell_type": "code",
   "execution_count": 13,
   "metadata": {},
   "outputs": [
    {
     "output_type": "execute_result",
     "data": {
      "text/plain": [
       "8026"
      ]
     },
     "metadata": {},
     "execution_count": 13
    }
   ],
   "source": [
    "df_localidades['CP'][25]"
   ]
  },
  {
   "cell_type": "code",
   "execution_count": 16,
   "metadata": {},
   "outputs": [
    {
     "output_type": "execute_result",
     "data": {
      "text/plain": [
       "     perfil        nombre           apellidos  \\\n",
       "0   usuario          Maxi       Roig Aguilera   \n",
       "1   usuario     Ana Belén        Mayol Molina   \n",
       "2   usuario        Samuel      Sierra Pedrero   \n",
       "3   usuario        Rafael  Gelabert Larrañaga   \n",
       "4   usuario         Borja      Ramírez Teruel   \n",
       "5   usuario      Clotilde     Aguilera Ferrer   \n",
       "6   usuario         Clara    Cáceres Valbuena   \n",
       "7   usuario  María Teresa      Sandoval Ávila   \n",
       "8   usuario       Antonia       Solano Camino   \n",
       "9   usuario        Soraya        Mayol Pulido   \n",
       "10  usuario       Jacinta     Fernandez Yuste   \n",
       "11  usuario           Isa     Mosquera Nevado   \n",
       "12  usuario        Manola       Tamarit Casas   \n",
       "13  usuario        Vanesa         Farré Bosch   \n",
       "14  usuario        Aníbal     Sabater Infante   \n",
       "15  usuario        Abilio     Palau Salamanca   \n",
       "16  usuario   Jose Miguel    Izaguirre Ferrán   \n",
       "17  usuario     Inocencio         Puga Campos   \n",
       "18  usuario        Elvira    Zabaleta Salazar   \n",
       "19  usuario     Felicidad        Tena Barreda   \n",
       "\n",
       "                              email    password            token        dni  \\\n",
       "0                 salud72@gmail.com  If^5oIaMH!  Windows NT 10.0  03725491C   \n",
       "1                 pinydia@yahoo.com  @m5M2WTdSe   Windows NT 6.2  27037402M   \n",
       "2       faustomanzanares@botella.es  a$0Eh6zfkD   Windows NT 6.1  26041968B   \n",
       "3              carlos33@hotmail.com  ^emr^Kbm)9   Windows NT 6.0  09775269Q   \n",
       "4           miroeliana@juan-muro.es  #zDfD2clW1       Windows 98  16998075V   \n",
       "5                 rbernat@yahoo.com  Ad^O_K@X(3       Windows 98  22058060W   \n",
       "6             chemaporras@yahoo.com  k66YQ^qc+e   Windows NT 5.2  50460752V   \n",
       "7             eduardoayuso@mena.com  n^Q2Gjv(d(   Windows NT 6.1  51120665Z   \n",
       "8     arribasvaleria@valderrama.net  @5M5XRzJ+4   Windows NT 6.2  92602510W   \n",
       "9             graciano18@coloma.org  (1IC)Uh5TS       Windows 95  21714270Q   \n",
       "10          ursulajerez@beltran.org  yfv7QN*j*+   Windows NT 5.0  37277635V   \n",
       "11          lourdespriego@yahoo.com  4X*9D6qo**  Windows NT 10.0  78154195B   \n",
       "12     andres03@manrique-huertas.es  $nmKQfx4M5   Windows NT 6.2  28206881A   \n",
       "13          teofilo96@valenzuela.es  0&K8#Zcn&y   Windows NT 6.1  48686898S   \n",
       "14            adriannovoa@gmail.com  $s8zLeTa&H       Windows CE  63388372G   \n",
       "15  alexgilabert@duran-villalba.com  &24Ua9Rm!H   Windows NT 4.0  20334238F   \n",
       "16                 yvilar@ripoll.es  l!1MlQ+yoV   Windows NT 6.1  31497602E   \n",
       "17              merche72@almeida.es  _X9AjR@pe1   Windows NT 6.1  26237899M   \n",
       "18          jenniferfranch@boada.es  EY0#Lfk&s%       Windows 98  88796029K   \n",
       "19           techevarria@frutos.org  $lNeNwVs9c   Windows NT 6.2  04570582E   \n",
       "\n",
       "                                        direc     CP      ciudad   provincia  \\\n",
       "0          Camino Federico Montenegro 10Las    28025      Madrid      Madrid   \n",
       "1           Callejón Azucena Pino 7 Apt. 31    23004        Jaén        Jaén   \n",
       "2                       Paseo Mateo Recio 61   36155  Pontevedra  Pontevedra   \n",
       "3    Rambla de Remedios Calzada 730 Apt. 35    36154  Pontevedra  Pontevedra   \n",
       "4            Via de Dimas Piña 186 Puerta 2     8015   Barcelona   Barcelona   \n",
       "5                  Pasadizo de Ale Planas 84    8012   Barcelona   Barcelona   \n",
       "6                Plaza Elías Pina 23 Piso 1    36002  Pontevedra  Pontevedra   \n",
       "7      Acceso de Xiomara Urrutia 21 Apt. 20    33174      Oviedo    Asturias   \n",
       "8      Via de María Pilar Aznar 66 Puerta 0    41008     Sevilla     Sevilla   \n",
       "9                   Vial de Judith Serrano 8    8003   Barcelona   Barcelona   \n",
       "10       Vial Leonardo Aragonés 18 Puerta 3    18004     Granada     Granada   \n",
       "11                      Via Ruperto Tello 88   28020      Madrid      Madrid   \n",
       "12                  Ronda de Cosme Jiménez 2   33201       Gijón    Asturias   \n",
       "13             Pasaje de Julia Vicente 15La    17005      Girona      Girona   \n",
       "14  Glorieta Florina Manuel 43Santa Cruz de    33011      Oviedo    Asturias   \n",
       "15   Pasadizo de Natividad Araujo 72 Piso 5    15009    A Coruña    A Coruña   \n",
       "16                    Paseo de Mireia Ruiz 2   28037      Madrid      Madrid   \n",
       "17                Calle de Fabiana Huerta 75    8021   Barcelona   Barcelona   \n",
       "18   Urbanización Carina Teruel 27 Puerta 2    33196      Oviedo    Asturias   \n",
       "19        Camino Ovidio Galiano 54 Puerta 8    28053      Madrid      Madrid   \n",
       "\n",
       "                        CA          lat           lon dicapacidad  grado  \n",
       "0      Comunidad de Madrid  40,40841191   -3,68760088      visual     35  \n",
       "1                Andalucía   37,7651913    -3,7903594   cognitiva     30  \n",
       "2                  Galicia  42,43158576  -8,643672092      visual     44  \n",
       "3                  Galicia  42,43158576  -8,643672092    orgánica     68  \n",
       "4                 Cataluña  41,38424664    2,17634927      motora     40  \n",
       "5                 Cataluña  41,38424664    2,17634927    orgánica     45  \n",
       "6                  Galicia  42,43158576  -8,643672092    orgánica     52  \n",
       "7   Principado de Asturias  43,36232165   -5,84372206      motora     64  \n",
       "8                Andalucía  37,38620512   -5,99251368    auditiva     54  \n",
       "9                 Cataluña  41,38424664    2,17634927      motora     47  \n",
       "10               Andalucía  37,17641932   -3,60001883     ninguna      0  \n",
       "11     Comunidad de Madrid  40,40841191   -3,68760088      motora     37  \n",
       "12  Principado de Asturias  43,53920222   -5,65949323   cognitiva     37  \n",
       "13                Cataluña  41,98186075    2,82411899     ninguna      0  \n",
       "14  Principado de Asturias  43,36232165   -5,84372206   cognitiva     35  \n",
       "15                 Galicia  43,37126587  -8,395501936    orgánica     16  \n",
       "16     Comunidad de Madrid  40,40841191   -3,68760088     ninguna      0  \n",
       "17                Cataluña  41,38424664    2,17634927      motora     51  \n",
       "18  Principado de Asturias  43,36232165   -5,84372206    auditiva     61  \n",
       "19     Comunidad de Madrid  40,40841191   -3,68760088      visual     78  "
      ],
      "text/html": "<div>\n<style scoped>\n    .dataframe tbody tr th:only-of-type {\n        vertical-align: middle;\n    }\n\n    .dataframe tbody tr th {\n        vertical-align: top;\n    }\n\n    .dataframe thead th {\n        text-align: right;\n    }\n</style>\n<table border=\"1\" class=\"dataframe\">\n  <thead>\n    <tr style=\"text-align: right;\">\n      <th></th>\n      <th>perfil</th>\n      <th>nombre</th>\n      <th>apellidos</th>\n      <th>email</th>\n      <th>password</th>\n      <th>token</th>\n      <th>dni</th>\n      <th>direc</th>\n      <th>CP</th>\n      <th>ciudad</th>\n      <th>provincia</th>\n      <th>CA</th>\n      <th>lat</th>\n      <th>lon</th>\n      <th>dicapacidad</th>\n      <th>grado</th>\n    </tr>\n  </thead>\n  <tbody>\n    <tr>\n      <th>0</th>\n      <td>usuario</td>\n      <td>Maxi</td>\n      <td>Roig Aguilera</td>\n      <td>salud72@gmail.com</td>\n      <td>If^5oIaMH!</td>\n      <td>Windows NT 10.0</td>\n      <td>03725491C</td>\n      <td>Camino Federico Montenegro 10Las</td>\n      <td>28025</td>\n      <td>Madrid</td>\n      <td>Madrid</td>\n      <td>Comunidad de Madrid</td>\n      <td>40,40841191</td>\n      <td>-3,68760088</td>\n      <td>visual</td>\n      <td>35</td>\n    </tr>\n    <tr>\n      <th>1</th>\n      <td>usuario</td>\n      <td>Ana Belén</td>\n      <td>Mayol Molina</td>\n      <td>pinydia@yahoo.com</td>\n      <td>@m5M2WTdSe</td>\n      <td>Windows NT 6.2</td>\n      <td>27037402M</td>\n      <td>Callejón Azucena Pino 7 Apt. 31</td>\n      <td>23004</td>\n      <td>Jaén</td>\n      <td>Jaén</td>\n      <td>Andalucía</td>\n      <td>37,7651913</td>\n      <td>-3,7903594</td>\n      <td>cognitiva</td>\n      <td>30</td>\n    </tr>\n    <tr>\n      <th>2</th>\n      <td>usuario</td>\n      <td>Samuel</td>\n      <td>Sierra Pedrero</td>\n      <td>faustomanzanares@botella.es</td>\n      <td>a$0Eh6zfkD</td>\n      <td>Windows NT 6.1</td>\n      <td>26041968B</td>\n      <td>Paseo Mateo Recio 61</td>\n      <td>36155</td>\n      <td>Pontevedra</td>\n      <td>Pontevedra</td>\n      <td>Galicia</td>\n      <td>42,43158576</td>\n      <td>-8,643672092</td>\n      <td>visual</td>\n      <td>44</td>\n    </tr>\n    <tr>\n      <th>3</th>\n      <td>usuario</td>\n      <td>Rafael</td>\n      <td>Gelabert Larrañaga</td>\n      <td>carlos33@hotmail.com</td>\n      <td>^emr^Kbm)9</td>\n      <td>Windows NT 6.0</td>\n      <td>09775269Q</td>\n      <td>Rambla de Remedios Calzada 730 Apt. 35</td>\n      <td>36154</td>\n      <td>Pontevedra</td>\n      <td>Pontevedra</td>\n      <td>Galicia</td>\n      <td>42,43158576</td>\n      <td>-8,643672092</td>\n      <td>orgánica</td>\n      <td>68</td>\n    </tr>\n    <tr>\n      <th>4</th>\n      <td>usuario</td>\n      <td>Borja</td>\n      <td>Ramírez Teruel</td>\n      <td>miroeliana@juan-muro.es</td>\n      <td>#zDfD2clW1</td>\n      <td>Windows 98</td>\n      <td>16998075V</td>\n      <td>Via de Dimas Piña 186 Puerta 2</td>\n      <td>8015</td>\n      <td>Barcelona</td>\n      <td>Barcelona</td>\n      <td>Cataluña</td>\n      <td>41,38424664</td>\n      <td>2,17634927</td>\n      <td>motora</td>\n      <td>40</td>\n    </tr>\n    <tr>\n      <th>5</th>\n      <td>usuario</td>\n      <td>Clotilde</td>\n      <td>Aguilera Ferrer</td>\n      <td>rbernat@yahoo.com</td>\n      <td>Ad^O_K@X(3</td>\n      <td>Windows 98</td>\n      <td>22058060W</td>\n      <td>Pasadizo de Ale Planas 84</td>\n      <td>8012</td>\n      <td>Barcelona</td>\n      <td>Barcelona</td>\n      <td>Cataluña</td>\n      <td>41,38424664</td>\n      <td>2,17634927</td>\n      <td>orgánica</td>\n      <td>45</td>\n    </tr>\n    <tr>\n      <th>6</th>\n      <td>usuario</td>\n      <td>Clara</td>\n      <td>Cáceres Valbuena</td>\n      <td>chemaporras@yahoo.com</td>\n      <td>k66YQ^qc+e</td>\n      <td>Windows NT 5.2</td>\n      <td>50460752V</td>\n      <td>Plaza Elías Pina 23 Piso 1</td>\n      <td>36002</td>\n      <td>Pontevedra</td>\n      <td>Pontevedra</td>\n      <td>Galicia</td>\n      <td>42,43158576</td>\n      <td>-8,643672092</td>\n      <td>orgánica</td>\n      <td>52</td>\n    </tr>\n    <tr>\n      <th>7</th>\n      <td>usuario</td>\n      <td>María Teresa</td>\n      <td>Sandoval Ávila</td>\n      <td>eduardoayuso@mena.com</td>\n      <td>n^Q2Gjv(d(</td>\n      <td>Windows NT 6.1</td>\n      <td>51120665Z</td>\n      <td>Acceso de Xiomara Urrutia 21 Apt. 20</td>\n      <td>33174</td>\n      <td>Oviedo</td>\n      <td>Asturias</td>\n      <td>Principado de Asturias</td>\n      <td>43,36232165</td>\n      <td>-5,84372206</td>\n      <td>motora</td>\n      <td>64</td>\n    </tr>\n    <tr>\n      <th>8</th>\n      <td>usuario</td>\n      <td>Antonia</td>\n      <td>Solano Camino</td>\n      <td>arribasvaleria@valderrama.net</td>\n      <td>@5M5XRzJ+4</td>\n      <td>Windows NT 6.2</td>\n      <td>92602510W</td>\n      <td>Via de María Pilar Aznar 66 Puerta 0</td>\n      <td>41008</td>\n      <td>Sevilla</td>\n      <td>Sevilla</td>\n      <td>Andalucía</td>\n      <td>37,38620512</td>\n      <td>-5,99251368</td>\n      <td>auditiva</td>\n      <td>54</td>\n    </tr>\n    <tr>\n      <th>9</th>\n      <td>usuario</td>\n      <td>Soraya</td>\n      <td>Mayol Pulido</td>\n      <td>graciano18@coloma.org</td>\n      <td>(1IC)Uh5TS</td>\n      <td>Windows 95</td>\n      <td>21714270Q</td>\n      <td>Vial de Judith Serrano 8</td>\n      <td>8003</td>\n      <td>Barcelona</td>\n      <td>Barcelona</td>\n      <td>Cataluña</td>\n      <td>41,38424664</td>\n      <td>2,17634927</td>\n      <td>motora</td>\n      <td>47</td>\n    </tr>\n    <tr>\n      <th>10</th>\n      <td>usuario</td>\n      <td>Jacinta</td>\n      <td>Fernandez Yuste</td>\n      <td>ursulajerez@beltran.org</td>\n      <td>yfv7QN*j*+</td>\n      <td>Windows NT 5.0</td>\n      <td>37277635V</td>\n      <td>Vial Leonardo Aragonés 18 Puerta 3</td>\n      <td>18004</td>\n      <td>Granada</td>\n      <td>Granada</td>\n      <td>Andalucía</td>\n      <td>37,17641932</td>\n      <td>-3,60001883</td>\n      <td>ninguna</td>\n      <td>0</td>\n    </tr>\n    <tr>\n      <th>11</th>\n      <td>usuario</td>\n      <td>Isa</td>\n      <td>Mosquera Nevado</td>\n      <td>lourdespriego@yahoo.com</td>\n      <td>4X*9D6qo**</td>\n      <td>Windows NT 10.0</td>\n      <td>78154195B</td>\n      <td>Via Ruperto Tello 88</td>\n      <td>28020</td>\n      <td>Madrid</td>\n      <td>Madrid</td>\n      <td>Comunidad de Madrid</td>\n      <td>40,40841191</td>\n      <td>-3,68760088</td>\n      <td>motora</td>\n      <td>37</td>\n    </tr>\n    <tr>\n      <th>12</th>\n      <td>usuario</td>\n      <td>Manola</td>\n      <td>Tamarit Casas</td>\n      <td>andres03@manrique-huertas.es</td>\n      <td>$nmKQfx4M5</td>\n      <td>Windows NT 6.2</td>\n      <td>28206881A</td>\n      <td>Ronda de Cosme Jiménez 2</td>\n      <td>33201</td>\n      <td>Gijón</td>\n      <td>Asturias</td>\n      <td>Principado de Asturias</td>\n      <td>43,53920222</td>\n      <td>-5,65949323</td>\n      <td>cognitiva</td>\n      <td>37</td>\n    </tr>\n    <tr>\n      <th>13</th>\n      <td>usuario</td>\n      <td>Vanesa</td>\n      <td>Farré Bosch</td>\n      <td>teofilo96@valenzuela.es</td>\n      <td>0&amp;K8#Zcn&amp;y</td>\n      <td>Windows NT 6.1</td>\n      <td>48686898S</td>\n      <td>Pasaje de Julia Vicente 15La</td>\n      <td>17005</td>\n      <td>Girona</td>\n      <td>Girona</td>\n      <td>Cataluña</td>\n      <td>41,98186075</td>\n      <td>2,82411899</td>\n      <td>ninguna</td>\n      <td>0</td>\n    </tr>\n    <tr>\n      <th>14</th>\n      <td>usuario</td>\n      <td>Aníbal</td>\n      <td>Sabater Infante</td>\n      <td>adriannovoa@gmail.com</td>\n      <td>$s8zLeTa&amp;H</td>\n      <td>Windows CE</td>\n      <td>63388372G</td>\n      <td>Glorieta Florina Manuel 43Santa Cruz de</td>\n      <td>33011</td>\n      <td>Oviedo</td>\n      <td>Asturias</td>\n      <td>Principado de Asturias</td>\n      <td>43,36232165</td>\n      <td>-5,84372206</td>\n      <td>cognitiva</td>\n      <td>35</td>\n    </tr>\n    <tr>\n      <th>15</th>\n      <td>usuario</td>\n      <td>Abilio</td>\n      <td>Palau Salamanca</td>\n      <td>alexgilabert@duran-villalba.com</td>\n      <td>&amp;24Ua9Rm!H</td>\n      <td>Windows NT 4.0</td>\n      <td>20334238F</td>\n      <td>Pasadizo de Natividad Araujo 72 Piso 5</td>\n      <td>15009</td>\n      <td>A Coruña</td>\n      <td>A Coruña</td>\n      <td>Galicia</td>\n      <td>43,37126587</td>\n      <td>-8,395501936</td>\n      <td>orgánica</td>\n      <td>16</td>\n    </tr>\n    <tr>\n      <th>16</th>\n      <td>usuario</td>\n      <td>Jose Miguel</td>\n      <td>Izaguirre Ferrán</td>\n      <td>yvilar@ripoll.es</td>\n      <td>l!1MlQ+yoV</td>\n      <td>Windows NT 6.1</td>\n      <td>31497602E</td>\n      <td>Paseo de Mireia Ruiz 2</td>\n      <td>28037</td>\n      <td>Madrid</td>\n      <td>Madrid</td>\n      <td>Comunidad de Madrid</td>\n      <td>40,40841191</td>\n      <td>-3,68760088</td>\n      <td>ninguna</td>\n      <td>0</td>\n    </tr>\n    <tr>\n      <th>17</th>\n      <td>usuario</td>\n      <td>Inocencio</td>\n      <td>Puga Campos</td>\n      <td>merche72@almeida.es</td>\n      <td>_X9AjR@pe1</td>\n      <td>Windows NT 6.1</td>\n      <td>26237899M</td>\n      <td>Calle de Fabiana Huerta 75</td>\n      <td>8021</td>\n      <td>Barcelona</td>\n      <td>Barcelona</td>\n      <td>Cataluña</td>\n      <td>41,38424664</td>\n      <td>2,17634927</td>\n      <td>motora</td>\n      <td>51</td>\n    </tr>\n    <tr>\n      <th>18</th>\n      <td>usuario</td>\n      <td>Elvira</td>\n      <td>Zabaleta Salazar</td>\n      <td>jenniferfranch@boada.es</td>\n      <td>EY0#Lfk&amp;s%</td>\n      <td>Windows 98</td>\n      <td>88796029K</td>\n      <td>Urbanización Carina Teruel 27 Puerta 2</td>\n      <td>33196</td>\n      <td>Oviedo</td>\n      <td>Asturias</td>\n      <td>Principado de Asturias</td>\n      <td>43,36232165</td>\n      <td>-5,84372206</td>\n      <td>auditiva</td>\n      <td>61</td>\n    </tr>\n    <tr>\n      <th>19</th>\n      <td>usuario</td>\n      <td>Felicidad</td>\n      <td>Tena Barreda</td>\n      <td>techevarria@frutos.org</td>\n      <td>$lNeNwVs9c</td>\n      <td>Windows NT 6.2</td>\n      <td>04570582E</td>\n      <td>Camino Ovidio Galiano 54 Puerta 8</td>\n      <td>28053</td>\n      <td>Madrid</td>\n      <td>Madrid</td>\n      <td>Comunidad de Madrid</td>\n      <td>40,40841191</td>\n      <td>-3,68760088</td>\n      <td>visual</td>\n      <td>78</td>\n    </tr>\n  </tbody>\n</table>\n</div>"
     },
     "metadata": {},
     "execution_count": 16
    }
   ],
   "source": [
    "customers_list = []\n",
    "discap_list = ['motora','visual','auditiva','cognitiva','orgánica','ninguna']\n",
    "columnas_BDD = ['perfil','nombre','apellidos','email','password','token','dni','direc','CP','ciudad','provincia','CA', 'lat','lon','dicapacidad','grado']\n",
    "\n",
    "for _ in range(20):\n",
    "\n",
    "    user_fields = []\n",
    "    # Generación del perfil, nombre y appelidos\n",
    "    user_fields.append('usuario')\n",
    "    user_fields.append(fake.first_name())\n",
    "    apellidos = fake.last_name() + ' ' + fake.last_name()\n",
    "    user_fields.append(apellidos)\n",
    "\n",
    "    # Generación datos de alta\n",
    "    user_fields.append(fake.email())\n",
    "    user_fields.append(fake.password(digits=True, upper_case=True, lower_case=True, length=10))\n",
    "    user_fields.append(fake.windows_platform_token())\n",
    "    user_fields.append(fake.nif())\n",
    "    \n",
    "    # Generación de los campos de la dirección\n",
    "    address_seed = fake.address()\n",
    "    address_seed_list = list(address_seed.split())\n",
    "    address_CP = address_seed_list[-1]\n",
    "    address_city = address_seed_list[-2].replace(',', '')\n",
    "    address_clean = address_seed.replace(address_CP, '')\n",
    "    address_clean = address_clean.replace(address_city, '')\n",
    "    address_clean = address_clean.replace('\\n', '')\n",
    "    address_clean = address_clean.replace(',', '')\n",
    "    user_fields.append(address_clean)\n",
    "\n",
    "    # Generador aleatorio de ubicación\n",
    "    rd_seed = np.random.randint (0,325)\n",
    "    user_fields.append(df_localidades['CP'][rd_seed])\n",
    "    user_fields.append(df_localidades['poblacion'][rd_seed])\n",
    "    user_fields.append(df_localidades['provincia'][rd_seed])\n",
    "    user_fields.append(df_localidades['CA'][rd_seed])\n",
    "    user_fields.append(df_localidades['lat'][rd_seed])\n",
    "    user_fields.append(df_localidades['lon'][rd_seed])\n",
    "\n",
    "    # Generación de la discapacidad y porcentaje\n",
    "    discap = discap_list[np.random.randint(0,6)]\n",
    "    user_fields.append(discap)\n",
    "    if discap != 'ninguna':\n",
    "        porcen_disc = np.random.randint(1,11)*3 + np.random.randint(1,21)+ np.random.randint(1,51)\n",
    "        user_fields.append(porcen_disc)\n",
    "    else:\n",
    "        rand_usu = np.random.randint(1,101)\n",
    "        if rand_usu >= 95:\n",
    "            user_fields[0] = 'certificador'\n",
    "        else:\n",
    "            user_fields.append(0)\n",
    "\n",
    "    # Integración del usuario generado en la lista de usuarios\n",
    "    customers_list.append(user_fields)\n",
    "\n",
    "\n",
    "df_users = pd.DataFrame(customers_list, columns= columnas_BDD)\n",
    "#df_users = pd.DataFrame(customers_list, columns= ['nombre','apellido 1','apellido 2','direc','CP','ciudad'])\n",
    "df_users"
   ]
  },
  {
   "cell_type": "code",
   "execution_count": 17,
   "metadata": {},
   "outputs": [],
   "source": [
    "fold.save_df_to_csv(df_localidades,'usuarios')\n"
   ]
  },
  {
   "cell_type": "code",
   "execution_count": 7,
   "metadata": {},
   "outputs": [
    {
     "output_type": "stream",
     "name": "stdout",
     "text": [
      "58\n18\n66\n66\n81\n62\n68\n40\n12\n52\n27\n52\n57\n37\n42\n85\n45\n52\n59\n41\n43\n16\n37\n79\n79\n43\n49\n23\n35\n51\n57\n30\n67\n90\n59\n30\n96\n66\n55\n59\n27\n66\n65\n72\n65\n26\n41\n60\n38\n33\n64\n48\n41\n85\n79\n20\n18\n37\n79\n48\n74\n24\n46\n17\n22\n85\n79\n44\n92\n28\n74\n89\n77\n17\n86\n32\n88\n83\n33\n51\n41\n64\n62\n79\n12\n82\n97\n55\n61\n69\n23\n35\n46\n93\n32\n29\n39\n17\n72\n19\n"
     ]
    }
   ],
   "source": [
    "for i in range (100):\n",
    "    porcen_disc = np.random.randint(1,11)*3 + np.random.randint(1,71)\n",
    "    print(porcen_disc)"
   ]
  },
  {
   "cell_type": "code",
   "execution_count": null,
   "metadata": {},
   "outputs": [],
   "source": []
  }
 ]
}