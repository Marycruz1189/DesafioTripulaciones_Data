{
 "cells": [
  {
   "cell_type": "code",
   "execution_count": 1,
   "source": [
    "import json\r\n",
    "import requests\r\n",
    "\r\n",
    "import pandas as pd"
   ],
   "outputs": [],
   "metadata": {}
  },
  {
   "cell_type": "code",
   "execution_count": 2,
   "source": [
    "def json_to_df(data):\r\n",
    "    elements = data['elements']\r\n",
    "    places = {'tipo': [], 'lat': [], 'lon': [], 'name': [], 'address': []}\r\n",
    "    \r\n",
    "    for i in elements:\r\n",
    "        \r\n",
    "        tipo = i.get('tags', None).get('amenity', None)\r\n",
    "        latitude = i.get('lat', None)\r\n",
    "        longitude = i.get('lon', None)\r\n",
    "        name = i.get('tags', {}).get('name', \"NO NAME\")\r\n",
    "        street = i.get('tags', {}).get('addr:street', \"NO STREET\")\r\n",
    "        number = i.get('tags', {}).get('addr:housenumber', 9999)\r\n",
    "\r\n",
    "        places['tipo'].append(tipo)\r\n",
    "        places['lat'].append(latitude)\r\n",
    "        places['lon'].append(longitude)\r\n",
    "        places['name'].append(name)\r\n",
    "        places['address'].append(street + ' ' + str(number))\r\n",
    "\r\n",
    "            \r\n",
    "    return pd.DataFrame(places)"
   ],
   "outputs": [],
   "metadata": {}
  },
  {
   "cell_type": "code",
   "execution_count": 3,
   "source": [
    "\r\n",
    "tipo = [\"restaurant\", \"bar\", \"pub\", \"cafe\", \"cinema\", \"theatre\"]\r\n",
    "barcelona = (41.33,2.06,41.46,2.27)\r\n",
    "madrid = (40.256,-3.995,40.543,-3.306)\r\n",
    "bilbao = (43.199,-3.069,43.373,-2.828)\r\n",
    "valencia = (39.408,-0.4758,39.548,-0.273)\r\n",
    "malaga = (36.658,-4.501,36.754,-4.351)\r\n",
    "sevilla = (37.332,-6.094,37.439,-5.893)"
   ],
   "outputs": [],
   "metadata": {}
  },
  {
   "cell_type": "code",
   "execution_count": 4,
   "source": [
    "def tablas(nodes, location, col):\r\n",
    "    \"\"\"Con esta función se obtienen los locales para los nodes definidos en la localización (marcada por 4 puntos), que traen los argumentos.\"\"\"\r\n",
    "\r\n",
    "    overpass_url = \"http://overpass-api.de/api/interpreter\"\r\n",
    "    overpass_query = f\"\"\"\r\n",
    "    [out:json];\r\n",
    "    node[\"amenity\"]{location};\r\n",
    "    out;\r\n",
    "    \"\"\"\r\n",
    "            \r\n",
    "    response = requests.get(overpass_url, \r\n",
    "                            params={'data': overpass_query})\r\n",
    "    data = response.json() \r\n",
    "    df_total = json_to_df(data)\r\n",
    "    \r\n",
    "    for ii,k in enumerate(nodes):\r\n",
    "\r\n",
    "        if ii==0:\r\n",
    "            df = df_total[df_total[\"tipo\"] == k]\r\n",
    "        else:\r\n",
    "            df = pd.concat([df, df_total[df_total[\"tipo\"] == k]])\r\n",
    "\r\n",
    "    df.reset_index(inplace=True)\r\n",
    "    df.drop(columns=\"index\", inplace=True)\r\n",
    "    df[\"location\"] = col\r\n",
    "\r\n",
    "    print(\"Se ha obtenido un dataframe con shape:\", df.shape)\r\n",
    "\r\n",
    "    return df"
   ],
   "outputs": [],
   "metadata": {}
  },
  {
   "cell_type": "code",
   "execution_count": 5,
   "source": [
    "\r\n",
    "df_barcelona = tablas(tipo, barcelona, \"Barcelona\")"
   ],
   "outputs": [
    {
     "output_type": "stream",
     "name": "stdout",
     "text": [
      "Se ha obtenido un dataframe con shape: (5796, 6)\n"
     ]
    }
   ],
   "metadata": {}
  },
  {
   "cell_type": "code",
   "execution_count": 6,
   "source": [
    "df_barcelona"
   ],
   "outputs": [
    {
     "output_type": "execute_result",
     "data": {
      "text/plain": [
       "            tipo        lat       lon  \\\n",
       "0     restaurant  41.381687  2.076645   \n",
       "1     restaurant  41.383643  2.158303   \n",
       "2     restaurant  41.389518  2.162177   \n",
       "3     restaurant  41.389997  2.131837   \n",
       "4     restaurant  41.383672  2.180639   \n",
       "...          ...        ...       ...   \n",
       "5791     theatre  41.369839  2.137810   \n",
       "5792     theatre  41.370484  2.123253   \n",
       "5793     theatre  41.378793  2.134733   \n",
       "5794     theatre  41.388456  2.173889   \n",
       "5795     theatre  41.400570  2.120671   \n",
       "\n",
       "                                            name  \\\n",
       "0                    Ateneu de Sant Just Desvern   \n",
       "1                                        Amaltea   \n",
       "2                                      Hanibishi   \n",
       "3                                 Moncho's House   \n",
       "4                                Taller de Tapas   \n",
       "...                                          ...   \n",
       "5791                             Sala Sant Medir   \n",
       "5792                        Auditori la Torrassa   \n",
       "5793                                     NO NAME   \n",
       "5794                                    Sala Ars   \n",
       "5795  Centre Parroquial de Sant Vicenç de Sarrià   \n",
       "\n",
       "                            address   location  \n",
       "0                    NO STREET 9999  Barcelona  \n",
       "1                    NO STREET 9999  Barcelona  \n",
       "2                    NO STREET 9999  Barcelona  \n",
       "3                    NO STREET 9999  Barcelona  \n",
       "4                   l'Argenteria 51  Barcelona  \n",
       "...                             ...        ...  \n",
       "5791                 NO STREET 9999  Barcelona  \n",
       "5792  Carrer de Santiago Apòstol 40  Barcelona  \n",
       "5793                 NO STREET 9999  Barcelona  \n",
       "5794                 NO STREET 9999  Barcelona  \n",
       "5795                 NO STREET 9999  Barcelona  \n",
       "\n",
       "[5796 rows x 6 columns]"
      ],
      "text/html": [
       "<div>\n",
       "<style scoped>\n",
       "    .dataframe tbody tr th:only-of-type {\n",
       "        vertical-align: middle;\n",
       "    }\n",
       "\n",
       "    .dataframe tbody tr th {\n",
       "        vertical-align: top;\n",
       "    }\n",
       "\n",
       "    .dataframe thead th {\n",
       "        text-align: right;\n",
       "    }\n",
       "</style>\n",
       "<table border=\"1\" class=\"dataframe\">\n",
       "  <thead>\n",
       "    <tr style=\"text-align: right;\">\n",
       "      <th></th>\n",
       "      <th>tipo</th>\n",
       "      <th>lat</th>\n",
       "      <th>lon</th>\n",
       "      <th>name</th>\n",
       "      <th>address</th>\n",
       "      <th>location</th>\n",
       "    </tr>\n",
       "  </thead>\n",
       "  <tbody>\n",
       "    <tr>\n",
       "      <th>0</th>\n",
       "      <td>restaurant</td>\n",
       "      <td>41.381687</td>\n",
       "      <td>2.076645</td>\n",
       "      <td>Ateneu de Sant Just Desvern</td>\n",
       "      <td>NO STREET 9999</td>\n",
       "      <td>Barcelona</td>\n",
       "    </tr>\n",
       "    <tr>\n",
       "      <th>1</th>\n",
       "      <td>restaurant</td>\n",
       "      <td>41.383643</td>\n",
       "      <td>2.158303</td>\n",
       "      <td>Amaltea</td>\n",
       "      <td>NO STREET 9999</td>\n",
       "      <td>Barcelona</td>\n",
       "    </tr>\n",
       "    <tr>\n",
       "      <th>2</th>\n",
       "      <td>restaurant</td>\n",
       "      <td>41.389518</td>\n",
       "      <td>2.162177</td>\n",
       "      <td>Hanibishi</td>\n",
       "      <td>NO STREET 9999</td>\n",
       "      <td>Barcelona</td>\n",
       "    </tr>\n",
       "    <tr>\n",
       "      <th>3</th>\n",
       "      <td>restaurant</td>\n",
       "      <td>41.389997</td>\n",
       "      <td>2.131837</td>\n",
       "      <td>Moncho's House</td>\n",
       "      <td>NO STREET 9999</td>\n",
       "      <td>Barcelona</td>\n",
       "    </tr>\n",
       "    <tr>\n",
       "      <th>4</th>\n",
       "      <td>restaurant</td>\n",
       "      <td>41.383672</td>\n",
       "      <td>2.180639</td>\n",
       "      <td>Taller de Tapas</td>\n",
       "      <td>l'Argenteria 51</td>\n",
       "      <td>Barcelona</td>\n",
       "    </tr>\n",
       "    <tr>\n",
       "      <th>...</th>\n",
       "      <td>...</td>\n",
       "      <td>...</td>\n",
       "      <td>...</td>\n",
       "      <td>...</td>\n",
       "      <td>...</td>\n",
       "      <td>...</td>\n",
       "    </tr>\n",
       "    <tr>\n",
       "      <th>5791</th>\n",
       "      <td>theatre</td>\n",
       "      <td>41.369839</td>\n",
       "      <td>2.137810</td>\n",
       "      <td>Sala Sant Medir</td>\n",
       "      <td>NO STREET 9999</td>\n",
       "      <td>Barcelona</td>\n",
       "    </tr>\n",
       "    <tr>\n",
       "      <th>5792</th>\n",
       "      <td>theatre</td>\n",
       "      <td>41.370484</td>\n",
       "      <td>2.123253</td>\n",
       "      <td>Auditori la Torrassa</td>\n",
       "      <td>Carrer de Santiago Apòstol 40</td>\n",
       "      <td>Barcelona</td>\n",
       "    </tr>\n",
       "    <tr>\n",
       "      <th>5793</th>\n",
       "      <td>theatre</td>\n",
       "      <td>41.378793</td>\n",
       "      <td>2.134733</td>\n",
       "      <td>NO NAME</td>\n",
       "      <td>NO STREET 9999</td>\n",
       "      <td>Barcelona</td>\n",
       "    </tr>\n",
       "    <tr>\n",
       "      <th>5794</th>\n",
       "      <td>theatre</td>\n",
       "      <td>41.388456</td>\n",
       "      <td>2.173889</td>\n",
       "      <td>Sala Ars</td>\n",
       "      <td>NO STREET 9999</td>\n",
       "      <td>Barcelona</td>\n",
       "    </tr>\n",
       "    <tr>\n",
       "      <th>5795</th>\n",
       "      <td>theatre</td>\n",
       "      <td>41.400570</td>\n",
       "      <td>2.120671</td>\n",
       "      <td>Centre Parroquial de Sant Vicenç de Sarrià</td>\n",
       "      <td>NO STREET 9999</td>\n",
       "      <td>Barcelona</td>\n",
       "    </tr>\n",
       "  </tbody>\n",
       "</table>\n",
       "<p>5796 rows × 6 columns</p>\n",
       "</div>"
      ]
     },
     "metadata": {},
     "execution_count": 6
    }
   ],
   "metadata": {}
  },
  {
   "cell_type": "code",
   "execution_count": 7,
   "source": [
    "df_madrid = tablas(tipo, madrid, \"Madrid\")\r\n"
   ],
   "outputs": [
    {
     "output_type": "stream",
     "name": "stdout",
     "text": [
      "Se ha obtenido un dataframe con shape: (8546, 6)\n"
     ]
    }
   ],
   "metadata": {}
  },
  {
   "cell_type": "code",
   "execution_count": 15,
   "source": [
    "df_bilbao = tablas(tipo, bilbao, 'Bilbao')"
   ],
   "outputs": [
    {
     "output_type": "stream",
     "name": "stdout",
     "text": [
      "Se ha obtenido un dataframe con shape: (2481, 6)\n"
     ]
    }
   ],
   "metadata": {}
  },
  {
   "cell_type": "code",
   "execution_count": 19,
   "source": [
    "df_malaga = tablas(tipo, malaga, 'Málaga')"
   ],
   "outputs": [
    {
     "output_type": "stream",
     "name": "stdout",
     "text": [
      "Se ha obtenido un dataframe con shape: (610, 6)\n"
     ]
    }
   ],
   "metadata": {}
  },
  {
   "cell_type": "code",
   "execution_count": 20,
   "source": [
    "df_valencia = tablas(tipo, valencia, 'Valencia')"
   ],
   "outputs": [
    {
     "output_type": "stream",
     "name": "stdout",
     "text": [
      "Se ha obtenido un dataframe con shape: (1688, 6)\n"
     ]
    }
   ],
   "metadata": {}
  },
  {
   "cell_type": "code",
   "execution_count": 21,
   "source": [
    "df_sevilla = tablas(tipo, sevilla, 'Sevilla')"
   ],
   "outputs": [
    {
     "output_type": "stream",
     "name": "stdout",
     "text": [
      "Se ha obtenido un dataframe con shape: (1861, 6)\n"
     ]
    }
   ],
   "metadata": {}
  },
  {
   "cell_type": "code",
   "execution_count": 8,
   "source": [
    "df_madrid"
   ],
   "outputs": [
    {
     "output_type": "execute_result",
     "data": {
      "text/plain": [
       "            tipo        lat       lon                                   name  \\\n",
       "0     restaurant  40.428732 -3.702002                         Café Comercial   \n",
       "1     restaurant  40.424584 -3.709622                      Rey de Tallarines   \n",
       "2     restaurant  40.425762 -3.712085                    La Parrilla de Nino   \n",
       "3     restaurant  40.425140 -3.711853                                  Delhi   \n",
       "4     restaurant  40.426033 -3.711541                            La Pomarada   \n",
       "...          ...        ...       ...                                    ...   \n",
       "8541     theatre  40.398606 -3.665860                           Grada mágica   \n",
       "8542     theatre  40.303408 -3.833338  Sala Municipal de Teatro Nuria Espert   \n",
       "8543     theatre  40.426603 -3.709312                             La Integra   \n",
       "8544     theatre  40.373836 -3.659936                    Auditorio Angelillo   \n",
       "8545     theatre  40.377674 -3.622909           Teatro municipal de Vallecas   \n",
       "\n",
       "                                address location  \n",
       "0                  Glorieta de Bilbao 7   Madrid  \n",
       "1           Plaza del Conde de Toreno 2   Madrid  \n",
       "2            Plaza de Cristino Martos 2   Madrid  \n",
       "3            Calle del Duque de Osuna 6   Madrid  \n",
       "4            Calle del Conde Duque 9999   Madrid  \n",
       "...                                 ...      ...  \n",
       "8541          Calle de Emilio Ortuño 20   Madrid  \n",
       "8542                     NO STREET 9999   Madrid  \n",
       "8543                Calle de Amaniel 24   Madrid  \n",
       "8544                     NO STREET 9999   Madrid  \n",
       "8545  Calle del Paso de Villamanrique 3   Madrid  \n",
       "\n",
       "[8546 rows x 6 columns]"
      ],
      "text/html": [
       "<div>\n",
       "<style scoped>\n",
       "    .dataframe tbody tr th:only-of-type {\n",
       "        vertical-align: middle;\n",
       "    }\n",
       "\n",
       "    .dataframe tbody tr th {\n",
       "        vertical-align: top;\n",
       "    }\n",
       "\n",
       "    .dataframe thead th {\n",
       "        text-align: right;\n",
       "    }\n",
       "</style>\n",
       "<table border=\"1\" class=\"dataframe\">\n",
       "  <thead>\n",
       "    <tr style=\"text-align: right;\">\n",
       "      <th></th>\n",
       "      <th>tipo</th>\n",
       "      <th>lat</th>\n",
       "      <th>lon</th>\n",
       "      <th>name</th>\n",
       "      <th>address</th>\n",
       "      <th>location</th>\n",
       "    </tr>\n",
       "  </thead>\n",
       "  <tbody>\n",
       "    <tr>\n",
       "      <th>0</th>\n",
       "      <td>restaurant</td>\n",
       "      <td>40.428732</td>\n",
       "      <td>-3.702002</td>\n",
       "      <td>Café Comercial</td>\n",
       "      <td>Glorieta de Bilbao 7</td>\n",
       "      <td>Madrid</td>\n",
       "    </tr>\n",
       "    <tr>\n",
       "      <th>1</th>\n",
       "      <td>restaurant</td>\n",
       "      <td>40.424584</td>\n",
       "      <td>-3.709622</td>\n",
       "      <td>Rey de Tallarines</td>\n",
       "      <td>Plaza del Conde de Toreno 2</td>\n",
       "      <td>Madrid</td>\n",
       "    </tr>\n",
       "    <tr>\n",
       "      <th>2</th>\n",
       "      <td>restaurant</td>\n",
       "      <td>40.425762</td>\n",
       "      <td>-3.712085</td>\n",
       "      <td>La Parrilla de Nino</td>\n",
       "      <td>Plaza de Cristino Martos 2</td>\n",
       "      <td>Madrid</td>\n",
       "    </tr>\n",
       "    <tr>\n",
       "      <th>3</th>\n",
       "      <td>restaurant</td>\n",
       "      <td>40.425140</td>\n",
       "      <td>-3.711853</td>\n",
       "      <td>Delhi</td>\n",
       "      <td>Calle del Duque de Osuna 6</td>\n",
       "      <td>Madrid</td>\n",
       "    </tr>\n",
       "    <tr>\n",
       "      <th>4</th>\n",
       "      <td>restaurant</td>\n",
       "      <td>40.426033</td>\n",
       "      <td>-3.711541</td>\n",
       "      <td>La Pomarada</td>\n",
       "      <td>Calle del Conde Duque 9999</td>\n",
       "      <td>Madrid</td>\n",
       "    </tr>\n",
       "    <tr>\n",
       "      <th>...</th>\n",
       "      <td>...</td>\n",
       "      <td>...</td>\n",
       "      <td>...</td>\n",
       "      <td>...</td>\n",
       "      <td>...</td>\n",
       "      <td>...</td>\n",
       "    </tr>\n",
       "    <tr>\n",
       "      <th>8541</th>\n",
       "      <td>theatre</td>\n",
       "      <td>40.398606</td>\n",
       "      <td>-3.665860</td>\n",
       "      <td>Grada mágica</td>\n",
       "      <td>Calle de Emilio Ortuño 20</td>\n",
       "      <td>Madrid</td>\n",
       "    </tr>\n",
       "    <tr>\n",
       "      <th>8542</th>\n",
       "      <td>theatre</td>\n",
       "      <td>40.303408</td>\n",
       "      <td>-3.833338</td>\n",
       "      <td>Sala Municipal de Teatro Nuria Espert</td>\n",
       "      <td>NO STREET 9999</td>\n",
       "      <td>Madrid</td>\n",
       "    </tr>\n",
       "    <tr>\n",
       "      <th>8543</th>\n",
       "      <td>theatre</td>\n",
       "      <td>40.426603</td>\n",
       "      <td>-3.709312</td>\n",
       "      <td>La Integra</td>\n",
       "      <td>Calle de Amaniel 24</td>\n",
       "      <td>Madrid</td>\n",
       "    </tr>\n",
       "    <tr>\n",
       "      <th>8544</th>\n",
       "      <td>theatre</td>\n",
       "      <td>40.373836</td>\n",
       "      <td>-3.659936</td>\n",
       "      <td>Auditorio Angelillo</td>\n",
       "      <td>NO STREET 9999</td>\n",
       "      <td>Madrid</td>\n",
       "    </tr>\n",
       "    <tr>\n",
       "      <th>8545</th>\n",
       "      <td>theatre</td>\n",
       "      <td>40.377674</td>\n",
       "      <td>-3.622909</td>\n",
       "      <td>Teatro municipal de Vallecas</td>\n",
       "      <td>Calle del Paso de Villamanrique 3</td>\n",
       "      <td>Madrid</td>\n",
       "    </tr>\n",
       "  </tbody>\n",
       "</table>\n",
       "<p>8546 rows × 6 columns</p>\n",
       "</div>"
      ]
     },
     "metadata": {},
     "execution_count": 8
    }
   ],
   "metadata": {}
  },
  {
   "cell_type": "code",
   "execution_count": 22,
   "source": [
    "path = './data/madrid.csv'\r\n",
    "df_madrid.to_csv(path, index= False)"
   ],
   "outputs": [],
   "metadata": {}
  },
  {
   "cell_type": "code",
   "execution_count": 23,
   "source": [
    "barcelona_path = './data/barcelona.csv'\r\n",
    "df_barcelona.to_csv(barcelona_path, index= False)"
   ],
   "outputs": [],
   "metadata": {}
  },
  {
   "cell_type": "code",
   "execution_count": 24,
   "source": [
    "valencia_path = './data/valencia.csv'\r\n",
    "df_valencia.to_csv(valencia_path, index= False)"
   ],
   "outputs": [],
   "metadata": {}
  },
  {
   "cell_type": "code",
   "execution_count": 25,
   "source": [
    "sevilla_path = './data/sevilla.csv'\r\n",
    "df_sevilla.to_csv(sevilla_path, index= False)"
   ],
   "outputs": [],
   "metadata": {}
  },
  {
   "cell_type": "code",
   "execution_count": 26,
   "source": [
    "malaga_path = './data/malaga.csv'\r\n",
    "df_malaga.to_csv(malaga_path, index= False)"
   ],
   "outputs": [],
   "metadata": {}
  },
  {
   "cell_type": "code",
   "execution_count": null,
   "source": [
    "bilbao_path = './data/bilbao.csv'\r\n",
    "df_bilbao.to_csv(bilbao_path, index= False)\r\n"
   ],
   "outputs": [],
   "metadata": {}
  }
 ],
 "metadata": {
  "orig_nbformat": 4,
  "language_info": {
   "name": "python",
   "version": "3.7.4",
   "mimetype": "text/x-python",
   "codemirror_mode": {
    "name": "ipython",
    "version": 3
   },
   "pygments_lexer": "ipython3",
   "nbconvert_exporter": "python",
   "file_extension": ".py"
  },
  "kernelspec": {
   "name": "python3",
   "display_name": "Python 3.7.4 64-bit"
  },
  "interpreter": {
   "hash": "e811f325e74d49824b5fcfc3c0f5c4bcd6461d80b4e4f70be476a8b343d99570"
  }
 },
 "nbformat": 4,
 "nbformat_minor": 2
}